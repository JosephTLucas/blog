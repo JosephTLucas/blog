{
 "cells": [
  {
   "cell_type": "markdown",
   "id": "81f310f3-59f4-47c9-a4c9-2c5dd7b8ffb2",
   "metadata": {},
   "source": [
    "# Cornell eBird\n",
    "https://ebird.org/home"
   ]
  },
  {
   "cell_type": "code",
   "execution_count": null,
   "id": "ebc9ef2d-5c42-4e90-8fb6-23aa0696e53b",
   "metadata": {},
   "outputs": [],
   "source": [
    "import geopandas as gpd\n",
    "import matplotlib.pyplot as plt\n",
    "import os\n",
    "import pandas as pd\n",
    "import requests"
   ]
  },
  {
   "cell_type": "code",
   "execution_count": null,
   "id": "5ae24917-1e08-449a-af88-11687412e801",
   "metadata": {},
   "outputs": [],
   "source": [
    "key = os.getenv(\"EBIRD_API\")"
   ]
  },
  {
   "cell_type": "markdown",
   "id": "f3b26d90-ac17-4247-89b7-812b998e5343",
   "metadata": {},
   "source": [
    "## Observations in US (past 7 days)"
   ]
  },
  {
   "cell_type": "markdown",
   "id": "e9ea9e29-dc4d-4424-811e-7574f5177935",
   "metadata": {},
   "source": [
    "API [documented here](https://documenter.getpostman.com/view/664302/S1ENwy59#intro)"
   ]
  },
  {
   "cell_type": "code",
   "execution_count": null,
   "id": "19c3f9ba-8e90-4c96-8297-c5edd18a9e4d",
   "metadata": {},
   "outputs": [],
   "source": [
    "url = \"https://api.ebird.org/v2/data/obs/US/recent\""
   ]
  },
  {
   "cell_type": "code",
   "execution_count": null,
   "id": "c4da58d3-4f83-46e8-bd59-88da0159504e",
   "metadata": {},
   "outputs": [],
   "source": [
    "r = requests.get(url, {\"key\": key, \"back\": 7, \"includeProvisional\": \"true\"})"
   ]
  },
  {
   "cell_type": "code",
   "execution_count": null,
   "id": "a49fc4b0-033e-4cb3-95a8-3cfd13a7e7d1",
   "metadata": {},
   "outputs": [],
   "source": [
    "data = r.json()"
   ]
  },
  {
   "cell_type": "code",
   "execution_count": null,
   "id": "def1ca9a-7a86-4860-9351-a8f813898140",
   "metadata": {},
   "outputs": [],
   "source": [
    "print(f\"There were {len(data)} observations reported in the last 7 days.\")"
   ]
  },
  {
   "cell_type": "markdown",
   "id": "431f4f6c-01cf-44e0-82ed-7212137f980e",
   "metadata": {},
   "source": [
    "## Data Exploration"
   ]
  },
  {
   "cell_type": "code",
   "execution_count": null,
   "id": "5fc5d239-4859-4940-adf8-f3c415979fef",
   "metadata": {},
   "outputs": [],
   "source": [
    "df = pd.DataFrame.from_records(data)\n",
    "df.head(5)"
   ]
  },
  {
   "cell_type": "markdown",
   "id": "5581a485-9068-442f-a6cf-0cdea7049e16",
   "metadata": {},
   "source": [
    "There are always privacy considerations when using geographical data. Here, we not only have latitudes and longitudes, but also users' nicknames for those locations. In some cases, those are full addresses. In others, they may leak some personal information (see: `Ron's yard`).\n",
    "\n",
    "We see this addressed in [their documentation](https://support.ebird.org/en/support/solutions/articles/48000948757-ebird-faqs#anchorhidehome). However, I'd consider the default insecure: \"you can rename the location so your address is not visible. You can also place or move the location pin to somewhere close by along your street\". It's a hard problem for a scientific project relying on the accuracy of geolocation data, however. Another solution may be to truncate the accuracy of the the coordinates for public API users."
   ]
  },
  {
   "cell_type": "markdown",
   "id": "fc2b0a10-8c09-488c-8466-0ca0b664d616",
   "metadata": {},
   "source": [
    "We should also remember that this is self reported data; this always carries certain uncertainty and bias. Are users more likely to record an exotic bird over a common one? Can we trust their `howMany`? Location data is also somewhat self-reported as users can move the pin (at least this restricts us to valid latitude and longitude). By playing with the app, we also know that the actual name information is categorical, not free text."
   ]
  },
  {
   "cell_type": "code",
   "execution_count": null,
   "id": "a464adf0-8f5b-41b9-a43a-82687887687d",
   "metadata": {},
   "outputs": [],
   "source": [
    "print(len(df[\"comName\"].unique()) == len(df))"
   ]
  },
  {
   "cell_type": "markdown",
   "id": "9cf7510c-c4a4-4c66-825d-1571a7e5f81e",
   "metadata": {},
   "source": [
    "Why is every record a unique bird? That seems unlikely. I should review the API documentation. I would expect something like `Red-tailed Hawk` (a relatively common bird) to show up multiple times."
   ]
  },
  {
   "cell_type": "code",
   "execution_count": null,
   "id": "5de6a3a3-5c40-4557-9130-7baba6f2b786",
   "metadata": {},
   "outputs": [],
   "source": [
    "df[df[\"comName\"] == \"Red-tailed Hawk\"]"
   ]
  },
  {
   "cell_type": "code",
   "execution_count": null,
   "id": "08e6dda0-6114-488c-aec4-eeeee49ca593",
   "metadata": {},
   "outputs": [],
   "source": [
    "fig, ax = plt.subplots(figsize=(14, 10))\n",
    "\n",
    "countries = gpd.read_file(gpd.datasets.get_path(\"naturalearth_lowres\"))\n",
    "countries[countries[\"iso_a3\"] == \"USA\"].plot(color=\"lightgrey\", ax=ax)\n",
    "ax.scatter(\n",
    "    x=df.lng, y=df.lat, s=1\n",
    ")  # TODO: color by bird-type, but not worthwhile until we have some non-unique birds in the list\n",
    "ax.axis(\"off\")\n",
    "plt.show()"
   ]
  },
  {
   "cell_type": "code",
   "execution_count": null,
   "id": "de8a0b8a-ab78-4b05-b011-190695edae82",
   "metadata": {},
   "outputs": [],
   "source": []
  }
 ],
 "metadata": {
  "kernelspec": {
   "display_name": "Python 3",
   "language": "python",
   "name": "python3"
  },
  "language_info": {
   "codemirror_mode": {
    "name": "ipython",
    "version": 3
   },
   "file_extension": ".py",
   "mimetype": "text/x-python",
   "name": "python",
   "nbconvert_exporter": "python",
   "pygments_lexer": "ipython3",
   "version": "3.9.5"
  }
 },
 "nbformat": 4,
 "nbformat_minor": 5
}
