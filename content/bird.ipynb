{
 "cells": [
  {
   "cell_type": "code",
   "execution_count": 85,
   "id": "ebc9ef2d-5c42-4e90-8fb6-23aa0696e53b",
   "metadata": {},
   "outputs": [],
   "source": [
    "import geopandas as gpd\n",
    "import matplotlib.pyplot as plt\n",
    "import os\n",
    "import pandas as pd\n",
    "import requests"
   ]
  },
  {
   "cell_type": "code",
   "execution_count": 86,
   "id": "5ae24917-1e08-449a-af88-11687412e801",
   "metadata": {},
   "outputs": [],
   "source": [
    "key = os.getenv(\"EBIRD_API\")"
   ]
  },
  {
   "cell_type": "markdown",
   "id": "f3b26d90-ac17-4247-89b7-812b998e5343",
   "metadata": {},
   "source": [
    "# Observations in US (past 7 days)"
   ]
  },
  {
   "cell_type": "markdown",
   "id": "e9ea9e29-dc4d-4424-811e-7574f5177935",
   "metadata": {},
   "source": [
    "API [documented here](https://documenter.getpostman.com/view/664302/S1ENwy59#intro)"
   ]
  },
  {
   "cell_type": "code",
   "execution_count": 87,
   "id": "19c3f9ba-8e90-4c96-8297-c5edd18a9e4d",
   "metadata": {},
   "outputs": [],
   "source": [
    "url = \"https://api.ebird.org/v2/data/obs/US/recent\""
   ]
  },
  {
   "cell_type": "code",
   "execution_count": 88,
   "id": "c4da58d3-4f83-46e8-bd59-88da0159504e",
   "metadata": {},
   "outputs": [],
   "source": [
    "r = requests.get(url, {\"key\": key, \"back\": 7, \"includeProvisional\": \"true\"})"
   ]
  },
  {
   "cell_type": "code",
   "execution_count": 89,
   "id": "a49fc4b0-033e-4cb3-95a8-3cfd13a7e7d1",
   "metadata": {},
   "outputs": [],
   "source": [
    "data = r.json()"
   ]
  },
  {
   "cell_type": "code",
   "execution_count": 90,
   "id": "def1ca9a-7a86-4860-9351-a8f813898140",
   "metadata": {},
   "outputs": [
    {
     "name": "stdout",
     "output_type": "stream",
     "text": [
      "There were 752 observations reported in the last 7 days.\n"
     ]
    }
   ],
   "source": [
    "print(f\"There were {len(data)} observations reported in the last 7 days.\")"
   ]
  },
  {
   "cell_type": "markdown",
   "id": "431f4f6c-01cf-44e0-82ed-7212137f980e",
   "metadata": {},
   "source": [
    "# Data Exploration"
   ]
  },
  {
   "cell_type": "code",
   "execution_count": 91,
   "id": "5fc5d239-4859-4940-adf8-f3c415979fef",
   "metadata": {},
   "outputs": [
    {
     "data": {
      "text/html": [
       "<div>\n",
       "<style scoped>\n",
       "    .dataframe tbody tr th:only-of-type {\n",
       "        vertical-align: middle;\n",
       "    }\n",
       "\n",
       "    .dataframe tbody tr th {\n",
       "        vertical-align: top;\n",
       "    }\n",
       "\n",
       "    .dataframe thead th {\n",
       "        text-align: right;\n",
       "    }\n",
       "</style>\n",
       "<table border=\"1\" class=\"dataframe\">\n",
       "  <thead>\n",
       "    <tr style=\"text-align: right;\">\n",
       "      <th></th>\n",
       "      <th>speciesCode</th>\n",
       "      <th>comName</th>\n",
       "      <th>sciName</th>\n",
       "      <th>locId</th>\n",
       "      <th>locName</th>\n",
       "      <th>obsDt</th>\n",
       "      <th>howMany</th>\n",
       "      <th>lat</th>\n",
       "      <th>lng</th>\n",
       "      <th>obsValid</th>\n",
       "      <th>obsReviewed</th>\n",
       "      <th>locationPrivate</th>\n",
       "      <th>subId</th>\n",
       "    </tr>\n",
       "  </thead>\n",
       "  <tbody>\n",
       "    <tr>\n",
       "      <th>0</th>\n",
       "      <td>amekes</td>\n",
       "      <td>American Kestrel</td>\n",
       "      <td>Falco sparverius</td>\n",
       "      <td>L16993375</td>\n",
       "      <td>2521 East Shawnee Road, Berrien Springs, Michi...</td>\n",
       "      <td>2021-11-28 23:33</td>\n",
       "      <td>1.0</td>\n",
       "      <td>41.943064</td>\n",
       "      <td>-86.397264</td>\n",
       "      <td>True</td>\n",
       "      <td>False</td>\n",
       "      <td>True</td>\n",
       "      <td>S98191822</td>\n",
       "    </tr>\n",
       "    <tr>\n",
       "      <th>1</th>\n",
       "      <td>rethaw</td>\n",
       "      <td>Red-tailed Hawk</td>\n",
       "      <td>Buteo jamaicensis</td>\n",
       "      <td>L16993375</td>\n",
       "      <td>2521 East Shawnee Road, Berrien Springs, Michi...</td>\n",
       "      <td>2021-11-28 23:33</td>\n",
       "      <td>1.0</td>\n",
       "      <td>41.943064</td>\n",
       "      <td>-86.397264</td>\n",
       "      <td>True</td>\n",
       "      <td>False</td>\n",
       "      <td>True</td>\n",
       "      <td>S98191822</td>\n",
       "    </tr>\n",
       "    <tr>\n",
       "      <th>2</th>\n",
       "      <td>sancra</td>\n",
       "      <td>Sandhill Crane</td>\n",
       "      <td>Antigone canadensis</td>\n",
       "      <td>L1048333</td>\n",
       "      <td>Rod's Yard</td>\n",
       "      <td>2021-11-28 17:53</td>\n",
       "      <td>80.0</td>\n",
       "      <td>38.382911</td>\n",
       "      <td>-85.962181</td>\n",
       "      <td>True</td>\n",
       "      <td>False</td>\n",
       "      <td>True</td>\n",
       "      <td>S98216447</td>\n",
       "    </tr>\n",
       "    <tr>\n",
       "      <th>3</th>\n",
       "      <td>libher</td>\n",
       "      <td>Little Blue Heron</td>\n",
       "      <td>Egretta caerulea</td>\n",
       "      <td>L1023416</td>\n",
       "      <td>Palm Coast Linear Park--St. Joe Walkway</td>\n",
       "      <td>2021-11-28 17:50</td>\n",
       "      <td>1.0</td>\n",
       "      <td>29.559791</td>\n",
       "      <td>-81.194658</td>\n",
       "      <td>True</td>\n",
       "      <td>False</td>\n",
       "      <td>False</td>\n",
       "      <td>S98216451</td>\n",
       "    </tr>\n",
       "    <tr>\n",
       "      <th>4</th>\n",
       "      <td>brnpel</td>\n",
       "      <td>Brown Pelican</td>\n",
       "      <td>Pelecanus occidentalis</td>\n",
       "      <td>L1023416</td>\n",
       "      <td>Palm Coast Linear Park--St. Joe Walkway</td>\n",
       "      <td>2021-11-28 17:50</td>\n",
       "      <td>1.0</td>\n",
       "      <td>29.559791</td>\n",
       "      <td>-81.194658</td>\n",
       "      <td>True</td>\n",
       "      <td>False</td>\n",
       "      <td>False</td>\n",
       "      <td>S98216451</td>\n",
       "    </tr>\n",
       "  </tbody>\n",
       "</table>\n",
       "</div>"
      ],
      "text/plain": [
       "  speciesCode            comName                 sciName      locId  \\\n",
       "0      amekes   American Kestrel        Falco sparverius  L16993375   \n",
       "1      rethaw    Red-tailed Hawk       Buteo jamaicensis  L16993375   \n",
       "2      sancra     Sandhill Crane     Antigone canadensis   L1048333   \n",
       "3      libher  Little Blue Heron        Egretta caerulea   L1023416   \n",
       "4      brnpel      Brown Pelican  Pelecanus occidentalis   L1023416   \n",
       "\n",
       "                                             locName             obsDt  \\\n",
       "0  2521 East Shawnee Road, Berrien Springs, Michi...  2021-11-28 23:33   \n",
       "1  2521 East Shawnee Road, Berrien Springs, Michi...  2021-11-28 23:33   \n",
       "2                                         Rod's Yard  2021-11-28 17:53   \n",
       "3            Palm Coast Linear Park--St. Joe Walkway  2021-11-28 17:50   \n",
       "4            Palm Coast Linear Park--St. Joe Walkway  2021-11-28 17:50   \n",
       "\n",
       "   howMany        lat        lng  obsValid  obsReviewed  locationPrivate  \\\n",
       "0      1.0  41.943064 -86.397264      True        False             True   \n",
       "1      1.0  41.943064 -86.397264      True        False             True   \n",
       "2     80.0  38.382911 -85.962181      True        False             True   \n",
       "3      1.0  29.559791 -81.194658      True        False            False   \n",
       "4      1.0  29.559791 -81.194658      True        False            False   \n",
       "\n",
       "       subId  \n",
       "0  S98191822  \n",
       "1  S98191822  \n",
       "2  S98216447  \n",
       "3  S98216451  \n",
       "4  S98216451  "
      ]
     },
     "execution_count": 91,
     "metadata": {},
     "output_type": "execute_result"
    }
   ],
   "source": [
    "df = pd.DataFrame.from_records(data)\n",
    "df.head(5)"
   ]
  },
  {
   "cell_type": "markdown",
   "id": "5581a485-9068-442f-a6cf-0cdea7049e16",
   "metadata": {},
   "source": [
    "There are always privacy considerations when using geographical data. Here, we not only have latitudes and longitudes, but also users' nicknames for those locations. In some cases, those are full addresses. In others, they may leak some personal information (see: `Ron's yard`).\n",
    "\n",
    "We see this addressed in [their documentation](https://support.ebird.org/en/support/solutions/articles/48000948757-ebird-faqs#anchorhidehome). However, I'd consider the default insecure: \"you can rename the location so your address is not visible. You can also place or move the location pin to somewhere close by along your street\". It's a hard problem for a scientific project relying on the accuracy of geolocation data, however. Another solution may be to truncate the accuracy of the the coordinates for public API users."
   ]
  },
  {
   "cell_type": "markdown",
   "id": "fc2b0a10-8c09-488c-8466-0ca0b664d616",
   "metadata": {},
   "source": [
    "We should also remember that this is self reported data; this always carries certain uncertainty and bias. Are users more likely to record an exotic bird over a common one? Can we trust their `howMany`? Location data is also somewhat self-reported as users can move the pin (at least this restricts us to valid latitude and longitude). By playing with the app, we also know that the actual name information is categorical, not free text."
   ]
  },
  {
   "cell_type": "code",
   "execution_count": 92,
   "id": "a464adf0-8f5b-41b9-a43a-82687887687d",
   "metadata": {},
   "outputs": [
    {
     "name": "stdout",
     "output_type": "stream",
     "text": [
      "True\n"
     ]
    }
   ],
   "source": [
    "print(len(df[\"comName\"].unique()) == len(df))"
   ]
  },
  {
   "cell_type": "markdown",
   "id": "9cf7510c-c4a4-4c66-825d-1571a7e5f81e",
   "metadata": {},
   "source": [
    "Why is every record a unique bird? That seems unlikely. I should review the API documentation. I would expect something like `Red-tailed Hawk` (a relatively common bird) to show up multiple times."
   ]
  },
  {
   "cell_type": "code",
   "execution_count": 93,
   "id": "5de6a3a3-5c40-4557-9130-7baba6f2b786",
   "metadata": {},
   "outputs": [
    {
     "data": {
      "text/html": [
       "<div>\n",
       "<style scoped>\n",
       "    .dataframe tbody tr th:only-of-type {\n",
       "        vertical-align: middle;\n",
       "    }\n",
       "\n",
       "    .dataframe tbody tr th {\n",
       "        vertical-align: top;\n",
       "    }\n",
       "\n",
       "    .dataframe thead th {\n",
       "        text-align: right;\n",
       "    }\n",
       "</style>\n",
       "<table border=\"1\" class=\"dataframe\">\n",
       "  <thead>\n",
       "    <tr style=\"text-align: right;\">\n",
       "      <th></th>\n",
       "      <th>speciesCode</th>\n",
       "      <th>comName</th>\n",
       "      <th>sciName</th>\n",
       "      <th>locId</th>\n",
       "      <th>locName</th>\n",
       "      <th>obsDt</th>\n",
       "      <th>howMany</th>\n",
       "      <th>lat</th>\n",
       "      <th>lng</th>\n",
       "      <th>obsValid</th>\n",
       "      <th>obsReviewed</th>\n",
       "      <th>locationPrivate</th>\n",
       "      <th>subId</th>\n",
       "    </tr>\n",
       "  </thead>\n",
       "  <tbody>\n",
       "    <tr>\n",
       "      <th>1</th>\n",
       "      <td>rethaw</td>\n",
       "      <td>Red-tailed Hawk</td>\n",
       "      <td>Buteo jamaicensis</td>\n",
       "      <td>L16993375</td>\n",
       "      <td>2521 East Shawnee Road, Berrien Springs, Michi...</td>\n",
       "      <td>2021-11-28 23:33</td>\n",
       "      <td>1.0</td>\n",
       "      <td>41.943064</td>\n",
       "      <td>-86.397264</td>\n",
       "      <td>True</td>\n",
       "      <td>False</td>\n",
       "      <td>True</td>\n",
       "      <td>S98191822</td>\n",
       "    </tr>\n",
       "  </tbody>\n",
       "</table>\n",
       "</div>"
      ],
      "text/plain": [
       "  speciesCode          comName            sciName      locId  \\\n",
       "1      rethaw  Red-tailed Hawk  Buteo jamaicensis  L16993375   \n",
       "\n",
       "                                             locName             obsDt  \\\n",
       "1  2521 East Shawnee Road, Berrien Springs, Michi...  2021-11-28 23:33   \n",
       "\n",
       "   howMany        lat        lng  obsValid  obsReviewed  locationPrivate  \\\n",
       "1      1.0  41.943064 -86.397264      True        False             True   \n",
       "\n",
       "       subId  \n",
       "1  S98191822  "
      ]
     },
     "execution_count": 93,
     "metadata": {},
     "output_type": "execute_result"
    }
   ],
   "source": [
    "df[df[\"comName\"] == \"Red-tailed Hawk\"]"
   ]
  },
  {
   "cell_type": "code",
   "execution_count": 95,
   "id": "08e6dda0-6114-488c-aec4-eeeee49ca593",
   "metadata": {},
   "outputs": [
    {
     "data": {
      "image/png": "[encoded data removed]",
      "text/plain": [
       "<Figure size 1008x720 with 1 Axes>"
      ]
     },
     "metadata": {
      "needs_background": "light"
     },
     "output_type": "display_data"
    }
   ],
   "source": [
    "fig, ax = plt.subplots(figsize=(14, 10))\n",
    "\n",
    "countries = gpd.read_file(gpd.datasets.get_path(\"naturalearth_lowres\"))\n",
    "countries[countries[\"iso_a3\"] == \"USA\"].plot(color=\"lightgrey\", ax=ax)\n",
    "ax.scatter(\n",
    "    x=df.lng, y=df.lat, s=1\n",
    ")  # TODO: color by bird-type, but not worthwhile until we have some non-unique birds in the list\n",
    "ax.axis(\"off\")\n",
    "plt.show()"
   ]
  },
  {
   "cell_type": "code",
   "execution_count": null,
   "id": "de8a0b8a-ab78-4b05-b011-190695edae82",
   "metadata": {},
   "outputs": [],
   "source": []
  }
 ],
 "metadata": {
  "kernelspec": {
   "display_name": "Python 3",
   "language": "python",
   "name": "python3"
  },
  "language_info": {
   "codemirror_mode": {
    "name": "ipython",
    "version": 3
   },
   "file_extension": ".py",
   "mimetype": "text/x-python",
   "name": "python",
   "nbconvert_exporter": "python",
   "pygments_lexer": "ipython3",
   "version": "3.9.5"
  }
 },
 "nbformat": 4,
 "nbformat_minor": 5
}
