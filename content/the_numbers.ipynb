{
 "cells": [
  {
   "cell_type": "markdown",
   "metadata": {},
   "source": [
    "https://play.picoctf.org/practice/challenge/68?category=2&page=1\n",
    "\n",
    "![numbers](img/the_numbers.png)"
   ]
  },
  {
   "cell_type": "code",
   "execution_count": 2,
   "metadata": {},
   "outputs": [],
   "source": [
    "from string import ascii_lowercase as alphabet"
   ]
  },
  {
   "cell_type": "code",
   "execution_count": 1,
   "metadata": {},
   "outputs": [],
   "source": [
    "numbers = [\n",
    "    16,\n",
    "    9,\n",
    "    3,\n",
    "    15,\n",
    "    3,\n",
    "    20,\n",
    "    6,\n",
    "    \"{\",\n",
    "    20,\n",
    "    8,\n",
    "    5,\n",
    "    14,\n",
    "    21,\n",
    "    13,\n",
    "    2,\n",
    "    5,\n",
    "    18,\n",
    "    19,\n",
    "    13,\n",
    "    1,\n",
    "    19,\n",
    "    15,\n",
    "    14,\n",
    "    \"}\",\n",
    "]"
   ]
  },
  {
   "cell_type": "code",
   "execution_count": 5,
   "metadata": {},
   "outputs": [
    {
     "data": {
      "text/plain": [
       "'picoctf{thenumbersmason}'"
      ]
     },
     "execution_count": 5,
     "metadata": {},
     "output_type": "execute_result"
    }
   ],
   "source": [
    "\"\".join([alphabet[number - 1] if type(number) is int else number for number in numbers])"
   ]
  }
 ],
 "metadata": {
  "kernelspec": {
   "display_name": "Python 3",
   "language": "python",
   "name": "python3"
  },
  "language_info": {
   "codemirror_mode": {
    "name": "ipython",
    "version": 3
   },
   "file_extension": ".py",
   "mimetype": "text/x-python",
   "name": "python",
   "nbconvert_exporter": "python",
   "pygments_lexer": "ipython3",
   "version": "3.8.5"
  }
 },
 "nbformat": 4,
 "nbformat_minor": 4
}
