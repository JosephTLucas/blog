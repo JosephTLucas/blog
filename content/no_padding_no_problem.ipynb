{
 "cells": [
  {
   "cell_type": "markdown",
   "id": "3ee98d72-1892-4471-8f11-51c0c652d5ec",
   "metadata": {},
   "source": [
    "# No Padding, No Problem\n",
    "\n",
    "Welcome to the Padding Oracle Challenge\n",
    "This oracle will take anything you give it and decrypt using RSA. It will not accept the ciphertext with the secret message... Good Luck!"
   ]
  },
  {
   "cell_type": "code",
   "execution_count": 132,
   "id": "3b1dbd3d-31f1-45a4-ac91-0900fa60e4c2",
   "metadata": {},
   "outputs": [],
   "source": [
    "n = 120199559973193838354549892082142658207097650252359537516083460817553570005386613360986166000912493892791691164047531246715465233526804393369018699102692997585282405404929642411769685589191403004314951464004606040856090582644697868607882790061040095046085624676496925724241831512872034324551286084224297842637"
   ]
  },
  {
   "cell_type": "code",
   "execution_count": 133,
   "id": "ee393862-7efb-4a82-9f69-96e2450ffa2b",
   "metadata": {},
   "outputs": [],
   "source": [
    "e = 65537"
   ]
  },
  {
   "cell_type": "code",
   "execution_count": 134,
   "id": "c0ed590e-69e5-40d4-93c8-5252e57e6171",
   "metadata": {},
   "outputs": [],
   "source": [
    "c = 7663878604603605176178448503196010884137598661534924550657029084967288918950468353300685296575323894095255258617919415054374805989359325652736220230210866108008415526260085801082953500312514266232101295493572110042773495662486665996281526563951110999276024750039987398638060394996693137783011654264697917058"
   ]
  },
  {
   "cell_type": "markdown",
   "id": "c1d58714-ad0c-4d83-a4bd-5fc6e80eef81",
   "metadata": {},
   "source": [
    "RSA is malleable (Paar 192). We can transform the ciphertext into another ciphertext which is a known transformation of the plaintext... This can be achieved in RSA if the attacker replaces the ciphertext `y` with `(s**e)*y` with an integer `s`. For this example, we'll double the cipher text (and know that we have to half the result returned from the oracle."
   ]
  },
  {
   "cell_type": "code",
   "execution_count": 135,
   "id": "55982f22-aade-4772-a088-3d5780042040",
   "metadata": {},
   "outputs": [],
   "source": [
    "x = c * (pow(2, e, n))"
   ]
  },
  {
   "cell_type": "markdown",
   "id": "b59cf1a5-78a4-416e-821a-a5a78e19be0f",
   "metadata": {},
   "source": [
    "Give `x` to Oracle and receive `doubled`"
   ]
  },
  {
   "cell_type": "code",
   "execution_count": 137,
   "id": "2f8d7845-1b13-4ce0-b43e-a1fd9d882ea5",
   "metadata": {},
   "outputs": [],
   "source": [
    "doubled = 580550060391700078946913236734911770139931497702556153513487440893406629034802718534645538074938502890768853279675297196794"
   ]
  },
  {
   "cell_type": "code",
   "execution_count": 138,
   "id": "68e341f2-40d6-4ea6-9e70-a1078422494b",
   "metadata": {},
   "outputs": [
    {
     "name": "stdout",
     "output_type": "stream",
     "text": [
      "290275030195850039473456618367455885069965748851278076756743720446703314517401359267322769037469251445384426639837648598397\n"
     ]
    }
   ],
   "source": [
    "result = int(doubled // 2)\n",
    "print(result)"
   ]
  },
  {
   "cell_type": "code",
   "execution_count": 139,
   "id": "8b2438ba-94f9-4df4-bf8a-def7eef270f5",
   "metadata": {},
   "outputs": [
    {
     "data": {
      "text/plain": [
       "'picoCTF{m4yb3_Th0se_m3s54g3s_4r3_difurrent_1772735}'"
      ]
     },
     "execution_count": 139,
     "metadata": {},
     "output_type": "execute_result"
    }
   ],
   "source": [
    "bytearray.fromhex(format(result, 'x')).decode()"
   ]
  },
  {
   "cell_type": "code",
   "execution_count": null,
   "id": "59280832-5a74-4308-bb51-d1a0d72136ee",
   "metadata": {},
   "outputs": [],
   "source": []
  }
 ],
 "metadata": {
  "kernelspec": {
   "display_name": "Python 3",
   "language": "python",
   "name": "python3"
  },
  "language_info": {
   "codemirror_mode": {
    "name": "ipython",
    "version": 3
   },
   "file_extension": ".py",
   "mimetype": "text/x-python",
   "name": "python",
   "nbconvert_exporter": "python",
   "pygments_lexer": "ipython3",
   "version": "3.9.5"
  }
 },
 "nbformat": 4,
 "nbformat_minor": 5
}
