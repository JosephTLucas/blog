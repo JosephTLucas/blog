{
 "cells": [
  {
   "cell_type": "markdown",
   "id": "4cfd0307-e885-4323-8d26-56254d1efb7a",
   "metadata": {},
   "source": [
    "# HackThisAI: medium_flying_pig"
   ]
  },
  {
   "cell_type": "code",
   "execution_count": null,
   "id": "8f0c8882-6940-4326-ba4f-bf62c05b6baa",
   "metadata": {},
   "outputs": [],
   "source": [
    "import matplotlib.pyplot as plt\n",
    "import os\n",
    "import subprocess\n",
    "import time\n",
    "from PIL import Image\n",
    "import requests\n",
    "import torch\n",
    "import torch.nn as nn\n",
    "import torch.optim as optim\n",
    "from torchvision import transforms\n",
    "from torchvision.utils import save_image\n",
    "from torchvision.models import resnet50"
   ]
  },
  {
   "cell_type": "code",
   "execution_count": null,
   "id": "e5585e67-7c82-4e2f-b0cf-7cd8b3fa43d7",
   "metadata": {},
   "outputs": [],
   "source": [
    "%%capture\n",
    "!git clone https://github.com/JosephTLucas/HackThisAI"
   ]
  },
  {
   "cell_type": "code",
   "execution_count": null,
   "id": "f7b860f9-77f4-49d8-addb-8919cff3eed8",
   "metadata": {},
   "outputs": [],
   "source": [
    "%%capture\n",
    "!docker build --tag flying_pigs HackThisAI/challenge/medium_flying_pigs/"
   ]
  },
  {
   "cell_type": "code",
   "execution_count": null,
   "id": "bb967172-c6f6-4f1f-aff3-315af5ecbdb7",
   "metadata": {},
   "outputs": [],
   "source": [
    "%%capture\n",
    "subprocess.call(\"docker run -p 5000:5000 flying_pigs:latest &\", shell=True)"
   ]
  },
  {
   "cell_type": "code",
   "execution_count": null,
   "id": "f7063bfa-5c84-40d5-be48-51c483ae49e7",
   "metadata": {},
   "outputs": [],
   "source": [
    "print(\"Waiting to make sure container starts.\")\n",
    "time.sleep(10)"
   ]
  },
  {
   "cell_type": "markdown",
   "id": "b199a6bd-4ef8-4627-9587-89cd34bcaeaf",
   "metadata": {},
   "source": [
    "We want to submit a mask, that when added to the provided pig picture, gets the pig classified as an airliner."
   ]
  },
  {
   "cell_type": "code",
   "execution_count": null,
   "id": "5b28f36f-fe41-4be4-9b3e-162337eb8c57",
   "metadata": {},
   "outputs": [],
   "source": [
    "def get_tensor_from_img(img_path):\n",
    "    img = Image.open(img_path)\n",
    "    preprocess = transforms.Compose([transforms.Resize([224,224]), transforms.ToTensor()])\n",
    "    return preprocess(img)[None, :, :, :]\n",
    "\n",
    "src_dir = \"img/\""
   ]
  },
  {
   "cell_type": "markdown",
   "id": "db9be1f4-e023-4393-b583-8835c46c19bf",
   "metadata": {},
   "source": [
    "Let's start with some naive solutions. What happens if we just submit an airliner? Let's go to google images and find one.\n",
    "\n",
    "![airliner.jpg](img/airliner.jpg)\n",
    "\n",
    "I chose this specific plane because it had several features that I thought might be important to the classifier including being able to see both wings, being able to see the tail, and being able to see the jet engines."
   ]
  },
  {
   "cell_type": "code",
   "execution_count": null,
   "id": "18a28106-20fd-48a6-8ad2-94d1da6cdbef",
   "metadata": {},
   "outputs": [],
   "source": [
    "plane = get_tensor_from_img(src_dir+\"airliner.jpg\")\n",
    "save_image(plane, src_dir+\"plane.jpg\")"
   ]
  },
  {
   "cell_type": "markdown",
   "id": "4be8383c-1abd-4c2b-a9b8-13975146e250",
   "metadata": {},
   "source": [
    "So now we have a plane resized and transformed to be a suitable mask for the pig. What is this amalgamation going to look like to the classifier?"
   ]
  },
  {
   "cell_type": "code",
   "execution_count": null,
   "id": "38525b2a-2379-4e1e-b7bd-8514f25671d7",
   "metadata": {},
   "outputs": [],
   "source": [
    "pig_plane = get_tensor_from_img(src_dir+\"pig.jpg\") + get_tensor_from_img(src_dir+\"plane.jpg\")\n",
    "plt.imshow(pig_plane[0].numpy().transpose(1,2,0))\n",
    "torch.save(pig_plane, src_dir+\"pig_plane.pt\")"
   ]
  },
  {
   "cell_type": "markdown",
   "id": "46907397-036e-45d5-9d23-b46ab803579a",
   "metadata": {},
   "source": [
    "Notice the clipping warning. We didn't even check to make sure that values remained in the expected range for colors `[0:255]`. I think we should submit it anyway."
   ]
  },
  {
   "cell_type": "code",
   "execution_count": null,
   "id": "91d7a569-304c-41a2-a154-5b5bb7358483",
   "metadata": {},
   "outputs": [],
   "source": [
    "def submit(path):\n",
    "    with open(path, \"rb\") as f:\n",
    "        r = requests.post(\"http://localhost:5000/check\", files={\"data_file\": f})\n",
    "    return r.text\n",
    "\n",
    "submit(src_dir+\"pig_plane.pt\")"
   ]
  },
  {
   "cell_type": "markdown",
   "id": "4093ac07-da76-4e94-8883-1e116e82cbb2",
   "metadata": {},
   "source": [
    "Okay, that didn't work. Remember, we were supposed to submit a mask. The image we see above isn't what's getting submitted to the classifier. It's getting added to the original pig image first. What if we take our plane image and subtract the pig. We know exactly what pig image they're using."
   ]
  },
  {
   "cell_type": "code",
   "execution_count": null,
   "id": "43f1c79a-87f3-44ae-9cbb-de482f9e1880",
   "metadata": {},
   "outputs": [],
   "source": [
    "plane_minus_pig = get_tensor_from_img(src_dir+\"plane.jpg\") - get_tensor_from_img(src_dir+\"pig.jpg\")\n",
    "plt.imshow(plane_minus_pig[0].numpy().transpose(1,2,0))\n",
    "torch.save(plane_minus_pig, src_dir+\"plane_minus_pig.pt\")"
   ]
  },
  {
   "cell_type": "markdown",
   "id": "e89c9ac5-26b4-4a19-9e41-483b15b8c897",
   "metadata": {},
   "source": [
    "Again, we didn't bother dealing with colors out of the expected bounds, but we see the negative pig and our positive plane. It's almost art. Let's submit that."
   ]
  },
  {
   "cell_type": "code",
   "execution_count": null,
   "id": "342c82e6-7fc9-4700-9ccd-d9d5ca104d05",
   "metadata": {},
   "outputs": [],
   "source": [
    "submit(src_dir+\"plane_minus_pig.pt\")"
   ]
  },
  {
   "cell_type": "markdown",
   "id": "1565d76d-a939-4b59-b056-8dc98dd4f6dd",
   "metadata": {},
   "source": [
    "## BONUS"
   ]
  },
  {
   "cell_type": "markdown",
   "id": "5abb5103-a86d-4ef3-b76c-3e1843b2d5fa",
   "metadata": {},
   "source": [
    "Nice! But as we can see above, that wouldn't fool a human. It _really_ won't fool a human once we add the positive pig back in... it's just a plane. In most adversarial ML discussions, we're really interested in the _minimal_ adversarial examples. Using our own pretrained resnet, let's build an offline example and a minimal adversarial example using this guide: https://adversarial-ml-tutorial.org/introduction/"
   ]
  },
  {
   "cell_type": "code",
   "execution_count": null,
   "id": "9636754e-8ed0-405b-adce-d85601c30e5c",
   "metadata": {},
   "outputs": [],
   "source": [
    "class Normalize(nn.Module):\n",
    "    def __init__(self, mean, std):\n",
    "        super(Normalize, self).__init__()\n",
    "        self.mean = torch.Tensor(mean)\n",
    "        self.std = torch.Tensor(std)\n",
    "    def forward(self, x):\n",
    "        return (x - self.mean.type_as(x)[None,:,None,None]) / self.std.type_as(x)[None,:,None,None]\n",
    "\n",
    "\n",
    "norm = Normalize(mean=[0.485, 0.456, 0.406], std=[0.229, 0.224, 0.225])"
   ]
  },
  {
   "cell_type": "code",
   "execution_count": null,
   "id": "42291dcf-9a3e-4704-b774-e3b0a1d27c35",
   "metadata": {},
   "outputs": [],
   "source": [
    "%%capture\n",
    "model = resnet50(pretrained=True)\n",
    "model.eval()"
   ]
  },
  {
   "cell_type": "code",
   "execution_count": null,
   "id": "f25163ba-4def-4c05-b7c1-d6d8c9e1a4f0",
   "metadata": {},
   "outputs": [],
   "source": [
    "pig = get_tensor_from_img(src_dir+\"pig.jpg\")\n",
    "delta = torch.zeros_like(pig, requires_grad=True)\n",
    "opt = optim.SGD([delta], lr=5e-3)\n",
    "epsilon = 2./255\n",
    "\n",
    "for t in range(100):\n",
    "    pred = model(norm(pig + delta))\n",
    "    # 341 corresponds to hog, 404 to airliner\n",
    "    loss = (-nn.CrossEntropyLoss()(pred, torch.LongTensor([341])) + \n",
    "            nn.CrossEntropyLoss()(pred, torch.LongTensor([404])))\n",
    "    \n",
    "    opt.zero_grad()\n",
    "    loss.backward()\n",
    "    opt.step()\n",
    "    delta.data.clamp_(-epsilon, epsilon)"
   ]
  },
  {
   "cell_type": "code",
   "execution_count": null,
   "id": "c438645c-212e-4a32-b94d-e44d7e111028",
   "metadata": {},
   "outputs": [],
   "source": [
    "torch.save(delta, src_dir+\"delta.pt\")"
   ]
  },
  {
   "cell_type": "markdown",
   "id": "a4dce143-f837-4db2-b016-167f25d77dde",
   "metadata": {},
   "source": [
    "Let's save `delta` and submit it."
   ]
  },
  {
   "cell_type": "code",
   "execution_count": null,
   "id": "5dc29e58-581c-4aad-8dbd-72f370103027",
   "metadata": {},
   "outputs": [],
   "source": [
    "submit(src_dir+\"delta.pt\")"
   ]
  },
  {
   "cell_type": "markdown",
   "id": "6da3a6a0-c5f8-4546-9c21-dcc800bfb05c",
   "metadata": {},
   "source": [
    "As we can see below, we've really made _very_ little change to the image."
   ]
  },
  {
   "cell_type": "code",
   "execution_count": null,
   "id": "f510f22d-3205-458d-9179-eafe22aad925",
   "metadata": {},
   "outputs": [],
   "source": [
    "delta.mean()"
   ]
  },
  {
   "cell_type": "code",
   "execution_count": null,
   "id": "c5b27aaa-28bf-4c45-af28-62ecfc191ead",
   "metadata": {},
   "outputs": [],
   "source": [
    "plt.imshow(delta[0].detach().numpy().transpose(1,2,0))"
   ]
  },
  {
   "cell_type": "code",
   "execution_count": null,
   "id": "5c93e9e1-64a0-4b64-8d76-bd8f9637688f",
   "metadata": {},
   "outputs": [],
   "source": [
    "print(\"MODIFIED\")\n",
    "plt.imshow((pig+delta)[0].detach().numpy().transpose(1,2,0))"
   ]
  },
  {
   "cell_type": "code",
   "execution_count": null,
   "id": "950ab5d2-c6f8-4622-a347-44576c3b6887",
   "metadata": {},
   "outputs": [],
   "source": [
    "print(\"ORIGINAL\")\n",
    "plt.imshow((pig)[0].detach().numpy().transpose(1,2,0))"
   ]
  },
  {
   "cell_type": "code",
   "execution_count": null,
   "id": "6e8fdbe5-62b4-48cd-8c04-6cf2825496e8",
   "metadata": {},
   "outputs": [],
   "source": []
  }
 ],
 "metadata": {
  "kernelspec": {
   "display_name": "Python 3 (ipykernel)",
   "language": "python",
   "name": "python3"
  },
  "language_info": {
   "codemirror_mode": {
    "name": "ipython",
    "version": 3
   },
   "file_extension": ".py",
   "mimetype": "text/x-python",
   "name": "python",
   "nbconvert_exporter": "python",
   "pygments_lexer": "ipython3",
   "version": "3.9.7"
  }
 },
 "nbformat": 4,
 "nbformat_minor": 5
}
