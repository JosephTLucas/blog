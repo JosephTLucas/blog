{
 "cells": [
  {
   "cell_type": "markdown",
   "metadata": {},
   "source": [
    "# PicoCTF Crypto Challenges"
   ]
  },
  {
   "cell_type": "markdown",
   "metadata": {},
   "source": [
    "## PicoCTF Challenge: Mod26\n",
    "\n",
    "Cryptography can be easy, do you know what ROT13 is? \n",
    "\n",
    "`cvpbPGS{arkg_gvzr_V'yy_gel_2_ebhaqf_bs_ebg13_uJdSftmh}`"
   ]
  },
  {
   "cell_type": "code",
   "execution_count": 1,
   "metadata": {},
   "outputs": [],
   "source": [
    "from string import ascii_lowercase as alphabet"
   ]
  },
  {
   "cell_type": "code",
   "execution_count": 3,
   "metadata": {},
   "outputs": [],
   "source": [
    "def rot(given: str, n: int) -> str:\n",
    "    \"\"\"\n",
    "    Passes anything that is not lowercase ascii\n",
    "    \"\"\"\n",
    "    return \"\".join(\n",
    "        [\n",
    "            alphabet[(alphabet.index(letter.lower()) + n) % 26]\n",
    "            if letter.lower() in alphabet\n",
    "            else letter\n",
    "            for letter in given\n",
    "        ]\n",
    "    )"
   ]
  },
  {
   "cell_type": "code",
   "execution_count": 4,
   "metadata": {},
   "outputs": [],
   "source": [
    "given = \"cvpbPGS{arkg_gvzr_V'yy_gel_2_ebhaqf_bs_ebg13_uJdSftmh}\""
   ]
  },
  {
   "cell_type": "code",
   "execution_count": 5,
   "metadata": {},
   "outputs": [
    {
     "data": {
      "text/plain": [
       "\"picoctf{next_time_i'll_try_2_rounds_of_rot13_hwqfsgzu}\""
      ]
     },
     "execution_count": 5,
     "metadata": {},
     "output_type": "execute_result"
    }
   ],
   "source": [
    "rot(given, 13)"
   ]
  },
  {
   "cell_type": "markdown",
   "metadata": {},
   "source": [
    "## PicoCTF Challenge: The Numbers\n",
    "\n",
    "https://play.picoctf.org/practice/challenge/68?category=2&page=1\n",
    "\n",
    "![numbers](img/the_numbers.png)"
   ]
  },
  {
   "cell_type": "code",
   "execution_count": null,
   "metadata": {},
   "outputs": [],
   "source": [
    "numbers = [\n",
    "    16,\n",
    "    9,\n",
    "    3,\n",
    "    15,\n",
    "    3,\n",
    "    20,\n",
    "    6,\n",
    "    \"{\",\n",
    "    20,\n",
    "    8,\n",
    "    5,\n",
    "    14,\n",
    "    21,\n",
    "    13,\n",
    "    2,\n",
    "    5,\n",
    "    18,\n",
    "    19,\n",
    "    13,\n",
    "    1,\n",
    "    19,\n",
    "    15,\n",
    "    14,\n",
    "    \"}\",\n",
    "]"
   ]
  },
  {
   "cell_type": "code",
   "execution_count": null,
   "metadata": {},
   "outputs": [],
   "source": [
    "\"\".join([alphabet[number - 1] if type(number) is int else number for number in numbers])"
   ]
  },
  {
   "cell_type": "markdown",
   "metadata": {},
   "source": [
    "## PicoCTF Challenge: No Padding, No Problem\n",
    "\n",
    "Welcome to the Padding Oracle Challenge\n",
    "This oracle will take anything you give it and decrypt using RSA. It will not accept the ciphertext with the secret message... Good Luck!"
   ]
  },
  {
   "cell_type": "code",
   "execution_count": null,
   "metadata": {},
   "outputs": [],
   "source": [
    "n = 120199559973193838354549892082142658207097650252359537516083460817553570005386613360986166000912493892791691164047531246715465233526804393369018699102692997585282405404929642411769685589191403004314951464004606040856090582644697868607882790061040095046085624676496925724241831512872034324551286084224297842637"
   ]
  },
  {
   "cell_type": "code",
   "execution_count": null,
   "metadata": {},
   "outputs": [],
   "source": [
    "e = 65537"
   ]
  },
  {
   "cell_type": "code",
   "execution_count": null,
   "metadata": {},
   "outputs": [],
   "source": [
    "c = 7663878604603605176178448503196010884137598661534924550657029084967288918950468353300685296575323894095255258617919415054374805989359325652736220230210866108008415526260085801082953500312514266232101295493572110042773495662486665996281526563951110999276024750039987398638060394996693137783011654264697917058"
   ]
  }
 ],
 "metadata": {
  "kernelspec": {
   "display_name": "Python 3",
   "language": "python",
   "name": "python3"
  },
  "language_info": {
   "codemirror_mode": {
    "name": "ipython",
    "version": 3
   },
   "file_extension": ".py",
   "mimetype": "text/x-python",
   "name": "python",
   "nbconvert_exporter": "python",
   "pygments_lexer": "ipython3",
   "version": "3.8.3"
  }
 },
 "nbformat": 4,
 "nbformat_minor": 4
}
