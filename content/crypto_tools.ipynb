{
 "cells": [
  {
   "cell_type": "markdown",
   "metadata": {},
   "source": [
    "# Crypto Tools\n",
    "\n",
    "Notes from reading and function prototypes"
   ]
  },
  {
   "cell_type": "markdown",
   "metadata": {},
   "source": [
    "## Character-based string manipulation and statistics"
   ]
  },
  {
   "cell_type": "code",
   "execution_count": 97,
   "metadata": {},
   "outputs": [],
   "source": [
    "from string import ascii_lowercase as alphabet\n",
    "from typing import List, Dict\n",
    "from collections import defaultdict\n",
    "import logging"
   ]
  },
  {
   "cell_type": "code",
   "execution_count": 2,
   "metadata": {},
   "outputs": [],
   "source": [
    "def rot(given: str, n: int) -> str:\n",
    "    \"\"\"\n",
    "    Passes anything that is not lowercase ascii\n",
    "    \"\"\"\n",
    "    return \"\".join(\n",
    "        [\n",
    "            alphabet[(alphabet.index(letter.lower()) + n) % 26]\n",
    "            if letter.lower() in alphabet\n",
    "            else letter\n",
    "            for letter in given\n",
    "        ]\n",
    "    )"
   ]
  },
  {
   "cell_type": "code",
   "execution_count": 13,
   "metadata": {},
   "outputs": [],
   "source": [
    "def substitute(start: List[str], end: List[str], given: str) -> str:\n",
    "    \"\"\"\n",
    "    Monoalphabetic substitution\n",
    "    \"\"\"\n",
    "    if len(start) != len(end):\n",
    "        raise ValueError(\"Both alphabets must be the same length\")\n",
    "    for i, x in enumerate(start):\n",
    "        given = given.replace(x, end[i])\n",
    "    return given"
   ]
  },
  {
   "cell_type": "code",
   "execution_count": 74,
   "metadata": {},
   "outputs": [],
   "source": [
    "en_freq = {\n",
    "    \"e\": 0.12,\n",
    "    \"t\": 0.091,\n",
    "    \"a\": 0.0812,\n",
    "    \"o\": 0.0768,\n",
    "    \"i\": 0.0731,\n",
    "    \"n\": 0.0695,\n",
    "    \"s\": 0.06280000000000001,\n",
    "    \"r\": 0.0602,\n",
    "    \"h\": 0.0592,\n",
    "    \"d\": 0.0432,\n",
    "    \"l\": 0.0398,\n",
    "    \"u\": 0.0288,\n",
    "    \"c\": 0.0271,\n",
    "    \"m\": 0.026099999999999998,\n",
    "    \"f\": 0.023,\n",
    "    \"y\": 0.021099999999999997,\n",
    "    \"w\": 0.0209,\n",
    "    \"g\": 0.0203,\n",
    "    \"p\": 0.0182,\n",
    "    \"b\": 0.0149,\n",
    "    \"v\": 0.0111,\n",
    "    \"k\": 0.0069,\n",
    "    \"x\": 0.0017000000000000001,\n",
    "    \"q\": 0.0011,\n",
    "    \"j\": 0.001,\n",
    "    \"z\": 0.0007000000000000001,\n",
    "}"
   ]
  },
  {
   "cell_type": "code",
   "execution_count": 102,
   "metadata": {},
   "outputs": [],
   "source": [
    "from scipy.stats import chisquare\n",
    "\n",
    "\n",
    "def compare_frequency(given: str, lang_dict: Dict[str, float] = en_freq) -> float:\n",
    "    \"\"\"\n",
    "    Calculate frequency distribution, test against language, return liklihood of belonging\n",
    "    One sided Chi Squared Test: lower results signify that `given` more likely drew from the same distribution as `lang_dict`\n",
    "    \"\"\"\n",
    "    given = given.replace(\" \", \"\")\n",
    "    freq = defaultdict()\n",
    "    for letter in lang_dict.keys():\n",
    "        freq[letter] = 0\n",
    "    for letter in given:\n",
    "        if letter.lower() in lang_dict.keys():\n",
    "            freq[letter.lower()] += 1 / len(given)\n",
    "        else:\n",
    "            logging.warning(f\"{letter} not in language alphabet\")\n",
    "    observed = [freq[k] for k in alphabet]\n",
    "    expected = [lang_dict[k] for k in alphabet]\n",
    "    return chisquare(observed, expected)[0]"
   ]
  },
  {
   "cell_type": "markdown",
   "metadata": {},
   "source": [
    "## Bit-based"
   ]
  },
  {
   "cell_type": "markdown",
   "metadata": {},
   "source": [
    "## Large number math shortcuts"
   ]
  },
  {
   "cell_type": "code",
   "execution_count": 29,
   "metadata": {},
   "outputs": [],
   "source": [
    "# Fermat Primality Test -- (Paar, Pezl. Pg 189)\n",
    "# probabalistic on s\n",
    "# beware Carmichael numbers (false positives)\n",
    "\n",
    "from random import choice\n",
    "\n",
    "\n",
    "def is_prime_fermat(candidate: int, s: int) -> bool:\n",
    "    candidate = abs(candidate)\n",
    "    for i in range(s):\n",
    "        try:\n",
    "            alpha = choice(range(2, candidate - 2))\n",
    "        except IndexError:  # lookup candidate <= 4\n",
    "            if candidate in [2, 3]:\n",
    "                return True\n",
    "            else:\n",
    "                return False\n",
    "        if alpha ** (candidate - 1) % candidate != 1:\n",
    "            return False\n",
    "    return True"
   ]
  },
  {
   "cell_type": "code",
   "execution_count": 62,
   "metadata": {},
   "outputs": [],
   "source": [
    "# Fast decryption with Chinese Remainder Theorem (CRT) -- (Paar, Pezl. Pg 184)\n",
    "\n",
    "\n",
    "def mod_multiplicative_inverse(remainder: int, base: int) -> int:\n",
    "    \"\"\"\n",
    "    What x solves: x * remainder % base == 1?\n",
    "    \"\"\"\n",
    "    for x in range(1, base):\n",
    "        if ((remainder % base) * (x % base)) % base == 1:\n",
    "            return x\n",
    "    return None\n",
    "\n",
    "\n",
    "def decrypt_crt(ciphertext: int, p: int, q: int, d: int) -> int:\n",
    "    \"\"\"\n",
    "    \"total speedup obtained through CRT is a factor of 4\" (Paar 186).\n",
    "    \"\"\"\n",
    "    ciphertext_p = ciphertext % p\n",
    "    ciphertext_q = ciphertext % q\n",
    "    plain_p = ciphertext_p ** (d % (p - 1)) % p\n",
    "    plain_q = ciphertext_q ** (d % (q - 1)) % q\n",
    "    cp = mod_multiplicative_inverse(q, p)\n",
    "    cq = mod_multiplicative_inverse(p, q)\n",
    "    return (q * cp * plain_p + p * cq * plain_q) % (p * q)"
   ]
  },
  {
   "cell_type": "code",
   "execution_count": null,
   "metadata": {},
   "outputs": [],
   "source": []
  }
 ],
 "metadata": {
  "kernelspec": {
   "display_name": "Python 3",
   "language": "python",
   "name": "python3"
  },
  "language_info": {
   "codemirror_mode": {
    "name": "ipython",
    "version": 3
   },
   "file_extension": ".py",
   "mimetype": "text/x-python",
   "name": "python",
   "nbconvert_exporter": "python",
   "pygments_lexer": "ipython3",
   "version": "3.8.3"
  }
 },
 "nbformat": 4,
 "nbformat_minor": 4
}
